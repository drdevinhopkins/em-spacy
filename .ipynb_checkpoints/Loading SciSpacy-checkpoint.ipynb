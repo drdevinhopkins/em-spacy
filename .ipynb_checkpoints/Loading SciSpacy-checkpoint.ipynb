{
 "cells": [
  {
   "cell_type": "code",
   "execution_count": 1,
   "metadata": {},
   "outputs": [
    {
     "data": {
      "text/plain": [
       "<scispacy.abbreviation.AbbreviationDetector at 0x7ffd82a64b20>"
      ]
     },
     "execution_count": 1,
     "metadata": {},
     "output_type": "execute_result"
    }
   ],
   "source": [
    "import spacy\n",
    "\n",
    "from scispacy.abbreviation import AbbreviationDetector\n",
    "\n",
    "nlp = spacy.load(\"en_core_sci_sm\")\n",
    "\n",
    "# Add the abbreviation pipe to the spacy pipeline.\n",
    "nlp.add_pipe(\"abbreviation_detector\")"
   ]
  },
  {
   "cell_type": "code",
   "execution_count": 2,
   "metadata": {},
   "outputs": [
    {
     "name": "stderr",
     "output_type": "stream",
     "text": [
      "/Users/devinhopkins/anaconda3/lib/python3.8/site-packages/sklearn/base.py:329: UserWarning: Trying to unpickle estimator TfidfTransformer from version 0.20.3 when using version 0.23.2. This might lead to breaking code or invalid results. Use at your own risk.\n",
      "  warnings.warn(\n",
      "/Users/devinhopkins/anaconda3/lib/python3.8/site-packages/sklearn/base.py:329: UserWarning: Trying to unpickle estimator TfidfVectorizer from version 0.20.3 when using version 0.23.2. This might lead to breaking code or invalid results. Use at your own risk.\n",
      "  warnings.warn(\n"
     ]
    },
    {
     "data": {
      "text/plain": [
       "<scispacy.linking.EntityLinker at 0x7ffd82a649d0>"
      ]
     },
     "execution_count": 2,
     "metadata": {},
     "output_type": "execute_result"
    }
   ],
   "source": [
    "from scispacy.linking import EntityLinker\n",
    "\n",
    "nlp.add_pipe(\"scispacy_linker\", config={\"resolve_abbreviations\": True, \"linker_name\": \"umls\"})"
   ]
  },
  {
   "cell_type": "code",
   "execution_count": 3,
   "metadata": {},
   "outputs": [
    {
     "name": "stdout",
     "output_type": "stream",
     "text": [
      "Name:  bulbar\n",
      "CUI: C1947952, Name: anatomical bulb\n",
      "Definition: A rounded dilation or expansion in a canal, vessel, or organ.\n",
      "TUI(s): T017\n",
      "Aliases: (total: 2): \n",
      "\t Bulbar, Bulb\n",
      "CUI: C0032372, Name: Poliomyelitis, Bulbar\n",
      "Definition: A form of paralytic poliomyelitis affecting neurons of the MEDULLA OBLONGATA of the brain stem. Clinical features include impaired respiration, HYPERTENSION, alterations of vasomotor control, and dysphagia. Weakness and atrophy of the limbs and trunk due to spinal cord involvement is usually associated. (From Adams et al., Principles of Neurology, 6th ed, p765)\n",
      "TUI(s): T047\n",
      "Aliases (abbreviated, total: 23): \n",
      "\t Acute bulbar polioencephalitis, Bulbar Polio, Poliomyelitis, Medullary Involvement, BULBAR POLIO, Acute paralytic poliomyelitis specified as bulbar, Polio, Bulbar, Bulbar Poliomyelitis, Anterior acute poliomyelitis, Acute infantile paralysis, Acute paralytic poliomyelitis, bulbar\n",
      "CUI: C2586323, Name: Structure of fascial sheath of eyeball\n",
      "Definition: Sheath of the eyeball consisting of fascia extending from the OPTIC NERVE to the corneal limbus.\n",
      "TUI(s): T023\n",
      "Aliases (abbreviated, total: 20): \n",
      "\t Eyeball, sheath, Vaginal bulbi, Capsule, Tenon, Bulbar sheath, Tenon's capsule, Fascia bulbi, Tenons Capsule, Structure of fascial sheath of eyeball, tenon capsule, Sheath of eyeball\n",
      "CUI: C1744560, Name: Bulbar urethra\n",
      "Definition: The portion of the penile urethra that spans the bulb of the penis.\n",
      "TUI(s): T023\n",
      "Aliases: (total: 5): \n",
      "\t Structure of bulbar urethra, Bulbar urethra, Bulbar Portion of the Urethra, Structure of bulbar urethra (body structure), Bulbar Urethra\n",
      "CUI: C0030442, Name: Progressive bulbar palsy\n",
      "Definition: A motor neuron disease marked by progressive weakness of the muscles innervated by cranial nerves of the lower brain stem. Clinical manifestations include dysarthria, dysphagia, facial weakness, tongue weakness, and fasciculations of the tongue and facial muscles. The adult form of the disease is marked initially by bulbar weakness which progresses to involve motor neurons throughout the neuroaxis. Eventually this condition may become indistinguishable from AMYOTROPHIC LATERAL SCLEROSIS. Fazio-Londe syndrome is an inherited form of this illness which occurs in children and young adults. (Adams et al., Principles of Neurology, 6th ed, p1091; Brain 1992 Dec;115(Pt 6):1889-1900)\n",
      "TUI(s): T047\n",
      "Aliases (abbreviated, total: 13): \n",
      "\t bulbar palsy progressive, Palsies, Progressive Bulbar, Progressive Bulbar Palsy, Bulbar Palsy, Progressive, Progressive bulbar palsy (disorder), PBP - Progressive bulbar palsy, Bulbar paralysis, Progressive Bulbar Palsies, Bulbar palsy, Progressive bulbar palsy\n"
     ]
    },
    {
     "name": "stderr",
     "output_type": "stream",
     "text": [
      "/Users/devinhopkins/anaconda3/lib/python3.8/site-packages/scispacy/candidate_generation.py:284: VisibleDeprecationWarning: Creating an ndarray from ragged nested sequences (which is a list-or-tuple of lists-or-tuples-or ndarrays with different lengths or shapes) is deprecated. If you meant to do this, you must specify 'dtype=object' when creating the ndarray\n",
      "  extended_neighbors[empty_vectors_boolean_flags] = numpy.array(neighbors)[:-1]\n",
      "/Users/devinhopkins/anaconda3/lib/python3.8/site-packages/scispacy/candidate_generation.py:285: VisibleDeprecationWarning: Creating an ndarray from ragged nested sequences (which is a list-or-tuple of lists-or-tuples-or ndarrays with different lengths or shapes) is deprecated. If you meant to do this, you must specify 'dtype=object' when creating the ndarray\n",
      "  extended_distances[empty_vectors_boolean_flags] = numpy.array(distances)[:-1]\n"
     ]
    }
   ],
   "source": [
    "doc = nlp(\"Spinal and bulbar muscular atrophy (SBMA) is an \\\n",
    "           inherited motor neuron disease caused by the expansion \\\n",
    "           of a polyglutamine tract within the androgen receptor (AR). \\\n",
    "           SBMA can be caused by this easily.\")\n",
    "\n",
    "# Let's look at a random entity!\n",
    "entity = doc.ents[1]\n",
    "\n",
    "print(\"Name: \", entity)\n",
    "\n",
    "# Each entity is linked to UMLS with a score\n",
    "# (currently just char-3gram matching).\n",
    "linker = nlp.get_pipe(\"scispacy_linker\")\n",
    "for umls_ent in entity._.kb_ents:\n",
    "    print(linker.kb.cui_to_entity[umls_ent[0]])"
   ]
  },
  {
   "cell_type": "code",
   "execution_count": null,
   "metadata": {},
   "outputs": [],
   "source": []
  }
 ],
 "metadata": {
  "kernelspec": {
   "display_name": "Python 3",
   "language": "python",
   "name": "python3"
  },
  "language_info": {
   "codemirror_mode": {
    "name": "ipython",
    "version": 3
   },
   "file_extension": ".py",
   "mimetype": "text/x-python",
   "name": "python",
   "nbconvert_exporter": "python",
   "pygments_lexer": "ipython3",
   "version": "3.8.5"
  }
 },
 "nbformat": 4,
 "nbformat_minor": 5
}
